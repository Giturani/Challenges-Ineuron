{
 "cells": [
  {
   "cell_type": "raw",
   "id": "b3952b7d",
   "metadata": {},
   "source": [
    "before 29th may 2022 3 PM IST you have to send an answer to me or to shivan \n",
    "sudhanshu@ineuron.ai\n",
    "shivan@ineuron.ai"
   ]
  },
  {
   "cell_type": "raw",
   "id": "ea8eb306",
   "metadata": {},
   "source": [
    "q1 :\n",
    "ineruon \n",
    "ineruon ineruon \n",
    "ineruon ineruon ineruon\n",
    "ineruon ineruon ineruon ineruon"
   ]
  },
  {
   "cell_type": "code",
   "execution_count": 4,
   "id": "8f939419",
   "metadata": {},
   "outputs": [
    {
     "name": "stdout",
     "output_type": "stream",
     "text": [
      "ineuron \n",
      "ineuron ineuron \n",
      "ineuron ineuron ineuron \n",
      "ineuron ineuron ineuron ineuron \n"
     ]
    }
   ],
   "source": [
    "for i in range(4):\n",
    "    j = 0\n",
    "    for j in range(i+1):\n",
    "        print('ineuron',end = \" \")\n",
    "    print()"
   ]
  },
  {
   "cell_type": "raw",
   "id": "19767759",
   "metadata": {},
   "source": [
    "q2 - \n",
    "\n",
    "          ineruon\n",
    "    ineruon      ineruon\n",
    "ineruon\t\tineruon \tineruon\n",
    "\tineruon\t\t ineruon\n",
    "\t\t  ineruon"
   ]
  },
  {
   "cell_type": "code",
   "execution_count": 5,
   "id": "638c75f9",
   "metadata": {},
   "outputs": [
    {
     "name": "stdout",
     "output_type": "stream",
     "text": [
      "                              \n",
      "           ineuron            \n",
      "       ineuron ineuron        \n",
      "   ineuron ineuron ineuron    \n",
      "       ineuron ineuron        \n",
      "           ineuron            \n"
     ]
    }
   ],
   "source": [
    "for i in range(6):\n",
    "    if i<=3:\n",
    "        n = i\n",
    "    else:\n",
    "        n = 6  - i\n",
    "    print((\"ineuron \"*n).center(30,' '))"
   ]
  },
  {
   "cell_type": "raw",
   "id": "11cad81e",
   "metadata": {},
   "source": [
    "q3 : Try to extract all the list entity "
   ]
  },
  {
   "cell_type": "code",
   "execution_count": 7,
   "id": "bf78fd61",
   "metadata": {},
   "outputs": [
    {
     "name": "stdout",
     "output_type": "stream",
     "text": [
      "[1, 2, 3, 4]\n",
      "['ineuron', 'data science ']\n"
     ]
    }
   ],
   "source": [
    "l = [[1,2,3,4] , (2,3,4,5,6) , (3,4,5,6,7) , set([23,4,5,45,4,4,5,45,45,4,5]) , {'k1' :\"sudh\" , \"k2\" : \"ineuron\",\"k3\":\n",
    "        \"kumar\" , 3:6 , 7:8} , [\"ineuron\" , \"data science \"]]\n",
    "for i in l:\n",
    "    if type(i) == list:\n",
    "        print(i)"
   ]
  },
  {
   "cell_type": "raw",
   "id": "8b766d57",
   "metadata": {},
   "source": [
    "q4 : Try to extract all the dict enteties"
   ]
  },
  {
   "cell_type": "code",
   "execution_count": 8,
   "id": "8105268d",
   "metadata": {},
   "outputs": [
    {
     "name": "stdout",
     "output_type": "stream",
     "text": [
      "{'k1': 'sudh', 'k2': 'ineuron', 'k3': 'kumar', 3: 6, 7: 8}\n"
     ]
    }
   ],
   "source": [
    "for i in l:\n",
    "    if type(i) == dict:\n",
    "        print(i)"
   ]
  },
  {
   "cell_type": "raw",
   "id": "aa51efb2",
   "metadata": {},
   "source": [
    "q5 : Try to extract all the tuples entities"
   ]
  },
  {
   "cell_type": "code",
   "execution_count": 9,
   "id": "b944ac05",
   "metadata": {},
   "outputs": [
    {
     "name": "stdout",
     "output_type": "stream",
     "text": [
      "(2, 3, 4, 5, 6)\n",
      "(3, 4, 5, 6, 7)\n"
     ]
    }
   ],
   "source": [
    "for i in l:\n",
    "    if type(i) == tuple:\n",
    "        print(i)"
   ]
  },
  {
   "cell_type": "raw",
   "id": "ccbeac65",
   "metadata": {},
   "source": [
    "q6 : Try to extract all the numerical data it may b a part of dict key and values "
   ]
  },
  {
   "cell_type": "code",
   "execution_count": 10,
   "id": "86fa3e1a",
   "metadata": {},
   "outputs": [
    {
     "data": {
      "text/plain": [
       "[1, 2, 3, 4, 2, 3, 4, 5, 6, 3, 4, 5, 6, 7, 45, 4, 5, 23]"
      ]
     },
     "execution_count": 10,
     "metadata": {},
     "output_type": "execute_result"
    }
   ],
   "source": [
    "l1 = []\n",
    "for i in l:\n",
    "    if type(i) == list or type(i) == tuple or type(i) == set:\n",
    "        for j in i:\n",
    "            if type(j) == int:\n",
    "                l1.append(j)\n",
    "    if type(i) == int:\n",
    "        l1.append(j)\n",
    "l1"
   ]
  },
  {
   "cell_type": "raw",
   "id": "6d4a1e0f",
   "metadata": {},
   "source": [
    "q7 : Try to give summation of all the numeric data "
   ]
  },
  {
   "cell_type": "code",
   "execution_count": 15,
   "id": "f3edbfc3",
   "metadata": {},
   "outputs": [
    {
     "data": {
      "text/plain": [
       "132"
      ]
     },
     "execution_count": 15,
     "metadata": {},
     "output_type": "execute_result"
    }
   ],
   "source": [
    "sum = 0\n",
    "for i in l:\n",
    "    if type(i) == list or type(i) == tuple or type(i) == set:\n",
    "        for j in i:\n",
    "            if type(j) == int:\n",
    "                sum = sum + j\n",
    "    if type(i) == int:\n",
    "        sum = sum + i\n",
    "sum"
   ]
  },
  {
   "cell_type": "raw",
   "id": "ce431f3b",
   "metadata": {},
   "source": [
    "q8 : Try to filter out all the odd values out all numeric data which is a part of a list "
   ]
  },
  {
   "cell_type": "code",
   "execution_count": 17,
   "id": "ebf424db",
   "metadata": {},
   "outputs": [
    {
     "data": {
      "text/plain": [
       "{1, 3, 5, 7, 23, 45}"
      ]
     },
     "execution_count": 17,
     "metadata": {},
     "output_type": "execute_result"
    }
   ],
   "source": [
    "l1 = []\n",
    "for i in l:\n",
    "    if type(i) == list or type(i) == tuple or type(i) == set:\n",
    "        for j in i:\n",
    "            if type(j) == int:\n",
    "                if j % 2 != 0:\n",
    "                    l1.append(j)\n",
    "    if type(i) == int:\n",
    "        if j % 2 != 0:\n",
    "            l1.append(j)\n",
    "set(l1)"
   ]
  },
  {
   "cell_type": "raw",
   "id": "413614b0",
   "metadata": {},
   "source": [
    "q9 : Try to extract \"ineruon\" out of this data"
   ]
  },
  {
   "cell_type": "code",
   "execution_count": 19,
   "id": "3a26f5f0",
   "metadata": {},
   "outputs": [
    {
     "name": "stdout",
     "output_type": "stream",
     "text": [
      "ineuron\n",
      "ineuron\n"
     ]
    }
   ],
   "source": [
    "for i in l:\n",
    "    if type(i) == list or type(i) == tuple or type(i) == set:\n",
    "        for j in i:\n",
    "            if j == \"ineuron\":\n",
    "                print(j)\n",
    "    if type(i) == dict:\n",
    "        for j,k in i.items():\n",
    "            if j == \"ineuron\":\n",
    "                print(j)\n",
    "            if k == \"ineuron\":\n",
    "                print(k)\n",
    "    if type(i) == \"ineuron\":\n",
    "        print(j)"
   ]
  },
  {
   "cell_type": "raw",
   "id": "9db2f553",
   "metadata": {},
   "source": []
  },
  {
   "cell_type": "code",
   "execution_count": 32,
   "id": "3105aa9d",
   "metadata": {},
   "outputs": [
    {
     "ename": "TypeError",
     "evalue": "unhashable type: 'list'",
     "output_type": "error",
     "traceback": [
      "\u001b[1;31m---------------------------------------------------------------------------\u001b[0m",
      "\u001b[1;31mTypeError\u001b[0m                                 Traceback (most recent call last)",
      "Input \u001b[1;32mIn [32]\u001b[0m, in \u001b[0;36m<cell line: 1>\u001b[1;34m()\u001b[0m\n\u001b[1;32m----> 1\u001b[0m \u001b[38;5;28;01mfor\u001b[39;00m i \u001b[38;5;129;01min\u001b[39;00m \u001b[38;5;28;43mset\u001b[39;49m\u001b[43m(\u001b[49m\u001b[43ml\u001b[49m\u001b[43m)\u001b[49m : \n\u001b[0;32m      2\u001b[0m     \u001b[38;5;28mprint\u001b[39m(i , \u001b[38;5;124m\"\u001b[39m\u001b[38;5;124m:\u001b[39m\u001b[38;5;124m\"\u001b[39m ,l1\u001b[38;5;241m.\u001b[39mcount(i))\n",
      "\u001b[1;31mTypeError\u001b[0m: unhashable type: 'list'"
     ]
    }
   ],
   "source": []
  },
  {
   "cell_type": "raw",
   "id": "9d2af37f",
   "metadata": {},
   "source": [
    "q11 : Try to find out number of keys in dict element"
   ]
  },
  {
   "cell_type": "code",
   "execution_count": 20,
   "id": "83ff31fc",
   "metadata": {},
   "outputs": [
    {
     "name": "stdout",
     "output_type": "stream",
     "text": [
      "dict_keys(['k1', 'k2', 'k3', 3, 7])\n"
     ]
    }
   ],
   "source": [
    "for i in l:\n",
    "    if type(i) == dict:\n",
    "        print(i.keys())"
   ]
  },
  {
   "cell_type": "raw",
   "id": "9bbfd48f",
   "metadata": {},
   "source": [
    "q12 : Try to filter out all the string data "
   ]
  },
  {
   "cell_type": "code",
   "execution_count": 21,
   "id": "dbde1ab8",
   "metadata": {},
   "outputs": [
    {
     "name": "stdout",
     "output_type": "stream",
     "text": [
      "k1\n",
      "sudh\n",
      "k2\n",
      "ineuron\n",
      "k3\n",
      "kumar\n",
      "ineuron\n",
      "data science \n"
     ]
    }
   ],
   "source": [
    "for i in l:\n",
    "    if type(i) == list or type(i) == tuple or type(i) == set:\n",
    "        for j in i:\n",
    "            if type(j) == str:\n",
    "                print(j)\n",
    "    if type(i) == dict:\n",
    "        for j,k in i.items():\n",
    "            if type(j) == str:\n",
    "                print(j)\n",
    "            if type(k) == str:\n",
    "                print(k)\n",
    "    if type(i) == str:\n",
    "        print(j)"
   ]
  },
  {
   "cell_type": "raw",
   "id": "c8566682",
   "metadata": {},
   "source": [
    "q14 : Try to find out multiplication of all numeric value in  the individual collection inside dataset"
   ]
  },
  {
   "cell_type": "code",
   "execution_count": 24,
   "id": "102b26d1",
   "metadata": {},
   "outputs": [
    {
     "name": "stdout",
     "output_type": "stream",
     "text": [
      "[1, 2, 3, 4] 24\n",
      "(2, 3, 4, 5, 6) 720\n",
      "(3, 4, 5, 6, 7) 2520\n",
      "{45, 4, 5, 23} 20700\n",
      "{'k1': 'sudh', 'k2': 'ineuron', 'k3': 'kumar', 3: 6, 7: 8} 441\n",
      "['ineuron', 'data science '] 1\n"
     ]
    }
   ],
   "source": [
    "mul = 1\n",
    "for i in l:\n",
    "    if type(i) == int:\n",
    "        mul = mul * i\n",
    "    if type(i) == list:\n",
    "        list1 = 1\n",
    "        for j in i:\n",
    "            if type(j) == int:\n",
    "                list1 = list1*j\n",
    "        print(i,list1)\n",
    "    if type(i) == tuple:\n",
    "        tup1 = 1\n",
    "        for j in i:\n",
    "            if type(j) == int:\n",
    "                tup1 = tup1*j\n",
    "        print(i,tup1)\n",
    "    if type(i) == dict:\n",
    "        dict1 = 1\n",
    "        for j,k in i.items():\n",
    "            if type(j) == int:\n",
    "                dict1 = dict1*j\n",
    "            if type(k) == int:\n",
    "                dict1 = dict1*j\n",
    "        print(i,dict1)\n",
    "    if type(i) == set:\n",
    "        set1 = 1\n",
    "        for j in i:\n",
    "            if type(j) == int:\n",
    "                set1 = set1*j\n",
    "        print(i,set1)"
   ]
  },
  {
   "cell_type": "raw",
   "id": "d668680f",
   "metadata": {},
   "source": [
    "q15 : Try to unwrape all the collection inside collection and create a flat list "
   ]
  },
  {
   "cell_type": "code",
   "execution_count": 35,
   "id": "7843fcda",
   "metadata": {},
   "outputs": [
    {
     "data": {
      "text/plain": [
       "[1,\n",
       " 2,\n",
       " 3,\n",
       " 4,\n",
       " 2,\n",
       " 3,\n",
       " 4,\n",
       " 5,\n",
       " 6,\n",
       " 3,\n",
       " 4,\n",
       " 5,\n",
       " 6,\n",
       " 7,\n",
       " 45,\n",
       " 4,\n",
       " 5,\n",
       " 23,\n",
       " 'k1',\n",
       " 'sudh',\n",
       " 'k2',\n",
       " 'ineuron',\n",
       " 'k3',\n",
       " 'kumar',\n",
       " 3,\n",
       " 6,\n",
       " 7,\n",
       " 8,\n",
       " 'ineuron',\n",
       " 'data science ']"
      ]
     },
     "execution_count": 35,
     "metadata": {},
     "output_type": "execute_result"
    }
   ],
   "source": [
    "l1 =[]\n",
    "for i in l:\n",
    "    if type(i) == list or type(i) == tuple or type(i) == set:\n",
    "        for j in i:\n",
    "            l1.append(j)\n",
    "    elif type(i) == dict:\n",
    "        for j,k in i.items():\n",
    "                l1.append(j)\n",
    "                l1.append(k)\n",
    "    else:\n",
    "        l1.append(i)\n",
    "l1"
   ]
  },
  {
   "cell_type": "raw",
   "id": "fc8c4d56",
   "metadata": {},
   "source": [
    "q10 :Try to find out a number of occurances of all the data"
   ]
  },
  {
   "cell_type": "code",
   "execution_count": 36,
   "id": "54988aee",
   "metadata": {},
   "outputs": [
    {
     "name": "stdout",
     "output_type": "stream",
     "text": [
      "k2 : 1\n",
      "1 : 1\n",
      "2 : 2\n",
      "3 : 4\n",
      "4 : 4\n",
      "5 : 3\n",
      "6 : 3\n",
      "7 : 2\n",
      "k3 : 1\n",
      "kumar : 1\n",
      "k1 : 1\n",
      "8 : 1\n",
      "45 : 1\n",
      "23 : 1\n",
      "ineuron : 2\n",
      "data science  : 1\n",
      "sudh : 1\n"
     ]
    }
   ],
   "source": [
    "for i in set(l1) : \n",
    "    print(i , \":\" ,l1.count(i))"
   ]
  },
  {
   "cell_type": "raw",
   "id": "b204a89b",
   "metadata": {},
   "source": [
    "q13 : Try to Find  out alphanum in data             str.isalnum"
   ]
  },
  {
   "cell_type": "code",
   "execution_count": 37,
   "id": "224fe2be",
   "metadata": {},
   "outputs": [
    {
     "name": "stdout",
     "output_type": "stream",
     "text": [
      "k1\n",
      "sudh\n",
      "k2\n",
      "ineuron\n",
      "k3\n",
      "kumar\n",
      "ineuron\n"
     ]
    }
   ],
   "source": [
    "for i in l1 :\n",
    "    if type(i) == str :\n",
    "        if i.isalnum() : \n",
    "            print(i)"
   ]
  }
 ],
 "metadata": {
  "kernelspec": {
   "display_name": "Python 3 (ipykernel)",
   "language": "python",
   "name": "python3"
  },
  "language_info": {
   "codemirror_mode": {
    "name": "ipython",
    "version": 3
   },
   "file_extension": ".py",
   "mimetype": "text/x-python",
   "name": "python",
   "nbconvert_exporter": "python",
   "pygments_lexer": "ipython3",
   "version": "3.9.12"
  }
 },
 "nbformat": 4,
 "nbformat_minor": 5
}
