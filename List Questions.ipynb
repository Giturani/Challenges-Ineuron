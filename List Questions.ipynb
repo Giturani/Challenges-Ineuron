{
 "cells": [
  {
   "cell_type": "raw",
   "id": "420e1786",
   "metadata": {},
   "source": [
    "#Questions \n",
    "l = [3,4,5,6,7 , [23,456,67,8,78,78] , [345,56,87,8,98,9] , (234,6657,6) , {\"key1\" :\"sudh\" , 234:[23,45,656]}]"
   ]
  },
  {
   "cell_type": "code",
   "execution_count": 1,
   "id": "bc163eb2",
   "metadata": {},
   "outputs": [],
   "source": [
    "l = [3,4,5,6,7 , [23,456,67,8,78,78] , [345,56,87,8,98,9] , (234,6657,6) , {\"key1\" :\"sudh\" , 234:[23,45,656]}]"
   ]
  },
  {
   "cell_type": "raw",
   "id": "bc93dccf",
   "metadata": {},
   "source": [
    "1 . Try to reverse a list"
   ]
  },
  {
   "cell_type": "code",
   "execution_count": 2,
   "id": "e819768d",
   "metadata": {},
   "outputs": [],
   "source": [
    "l.reverse()"
   ]
  },
  {
   "cell_type": "code",
   "execution_count": 3,
   "id": "765d75d9",
   "metadata": {},
   "outputs": [
    {
     "data": {
      "text/plain": [
       "[{'key1': 'sudh', 234: [23, 45, 656]},\n",
       " (234, 6657, 6),\n",
       " [345, 56, 87, 8, 98, 9],\n",
       " [23, 456, 67, 8, 78, 78],\n",
       " 7,\n",
       " 6,\n",
       " 5,\n",
       " 4,\n",
       " 3]"
      ]
     },
     "execution_count": 3,
     "metadata": {},
     "output_type": "execute_result"
    }
   ],
   "source": [
    "l"
   ]
  },
  {
   "cell_type": "raw",
   "id": "7bac88ee",
   "metadata": {},
   "source": [
    "2. try to access 234 out of this list "
   ]
  },
  {
   "cell_type": "code",
   "execution_count": 4,
   "id": "2b0db39b",
   "metadata": {},
   "outputs": [
    {
     "name": "stdout",
     "output_type": "stream",
     "text": [
      "234\n",
      "234\n"
     ]
    }
   ],
   "source": [
    "for i in l:\n",
    "    if i == 234:\n",
    "        print(i)\n",
    "    if type(i) == list or type(i) == tuple:\n",
    "        for j in i:\n",
    "            if j == 234:\n",
    "                print(j)\n",
    "    if type(i) == dict:\n",
    "        for j,k in i.items():\n",
    "            if j == 234:\n",
    "                print(j)\n",
    "            if k == 234:\n",
    "                print(k)"
   ]
  },
  {
   "cell_type": "code",
   "execution_count": 11,
   "id": "0c67bc74",
   "metadata": {},
   "outputs": [
    {
     "data": {
      "text/plain": [
       "234"
      ]
     },
     "execution_count": 11,
     "metadata": {},
     "output_type": "execute_result"
    }
   ],
   "source": [
    "list(l[0].keys())[1]"
   ]
  },
  {
   "cell_type": "code",
   "execution_count": 12,
   "id": "59b1bf16",
   "metadata": {},
   "outputs": [
    {
     "data": {
      "text/plain": [
       "234"
      ]
     },
     "execution_count": 12,
     "metadata": {},
     "output_type": "execute_result"
    }
   ],
   "source": [
    "l[1][0]"
   ]
  },
  {
   "cell_type": "raw",
   "id": "ab3fda6b",
   "metadata": {},
   "source": [
    "3 . try to access 456 "
   ]
  },
  {
   "cell_type": "code",
   "execution_count": 5,
   "id": "f8a3d570",
   "metadata": {},
   "outputs": [
    {
     "name": "stdout",
     "output_type": "stream",
     "text": [
      "456\n"
     ]
    }
   ],
   "source": [
    "for i in l:\n",
    "    if i == 456:\n",
    "        print(i)\n",
    "    if type(i) == list or type(i) == tuple:\n",
    "        for j in i:\n",
    "            if j == 456:\n",
    "                print(j)\n",
    "    if type(i) == dict:\n",
    "        for j,k in i.items():\n",
    "            if j == 456:\n",
    "                print(j)\n",
    "            if k == 456:\n",
    "                print(k)"
   ]
  },
  {
   "cell_type": "code",
   "execution_count": 13,
   "id": "f59bad6d",
   "metadata": {},
   "outputs": [
    {
     "data": {
      "text/plain": [
       "456"
      ]
     },
     "execution_count": 13,
     "metadata": {},
     "output_type": "execute_result"
    }
   ],
   "source": [
    "l[3][1]"
   ]
  },
  {
   "cell_type": "raw",
   "id": "1b5a923f",
   "metadata": {},
   "source": [
    "4 . Try to extract only a list collection form list l "
   ]
  },
  {
   "cell_type": "code",
   "execution_count": 6,
   "id": "b84b3d67",
   "metadata": {},
   "outputs": [
    {
     "name": "stdout",
     "output_type": "stream",
     "text": [
      "[345, 56, 87, 8, 98, 9]\n",
      "[23, 456, 67, 8, 78, 78]\n"
     ]
    }
   ],
   "source": [
    "for i in l:\n",
    "    if type(i) == list:\n",
    "        print(i)"
   ]
  },
  {
   "cell_type": "code",
   "execution_count": 21,
   "id": "c8df8b88",
   "metadata": {},
   "outputs": [
    {
     "data": {
      "text/plain": [
       "[[345, 56, 87, 8, 98, 9], [23, 456, 67, 8, 78, 78]]"
      ]
     },
     "execution_count": 21,
     "metadata": {},
     "output_type": "execute_result"
    }
   ],
   "source": [
    "l[2:4]"
   ]
  },
  {
   "cell_type": "raw",
   "id": "cd72f0e4",
   "metadata": {},
   "source": [
    "5 . Try to extract \"sudh\""
   ]
  },
  {
   "cell_type": "code",
   "execution_count": 7,
   "id": "d6c67a20",
   "metadata": {},
   "outputs": [
    {
     "name": "stdout",
     "output_type": "stream",
     "text": [
      "sudh\n"
     ]
    }
   ],
   "source": [
    "for i in l:\n",
    "    if i == 'sudh':\n",
    "        print(i)\n",
    "    if type(i) == list or type(i) == tuple:\n",
    "        for j in i:\n",
    "            if j == 'sudh':\n",
    "                print(j)\n",
    "    if type(i) == dict:\n",
    "        for j,k in i.items():\n",
    "            if j == 'sudh':\n",
    "                print(j)\n",
    "            if k == 'sudh':\n",
    "                print(k)"
   ]
  },
  {
   "cell_type": "code",
   "execution_count": 17,
   "id": "5a0b7b5e",
   "metadata": {},
   "outputs": [
    {
     "data": {
      "text/plain": [
       "'sudh'"
      ]
     },
     "execution_count": 17,
     "metadata": {},
     "output_type": "execute_result"
    }
   ],
   "source": [
    "l[0]['key1']"
   ]
  },
  {
   "cell_type": "raw",
   "id": "5487fd34",
   "metadata": {},
   "source": [
    "6 . Try to list all the key in dict element avaible in list"
   ]
  },
  {
   "cell_type": "code",
   "execution_count": 19,
   "id": "5c93d3f6",
   "metadata": {},
   "outputs": [
    {
     "name": "stdout",
     "output_type": "stream",
     "text": [
      "['key1', 234]\n"
     ]
    }
   ],
   "source": [
    "for i in l:\n",
    "    if type(i) == dict:\n",
    "        print(list(i.keys()))"
   ]
  },
  {
   "cell_type": "raw",
   "id": "18c616f5",
   "metadata": {},
   "source": [
    "7 . Try to extract all the value element form dict available in list "
   ]
  },
  {
   "cell_type": "code",
   "execution_count": 20,
   "id": "fb0a873c",
   "metadata": {},
   "outputs": [
    {
     "name": "stdout",
     "output_type": "stream",
     "text": [
      "['sudh', [23, 45, 656]]\n"
     ]
    }
   ],
   "source": [
    "for i in l:\n",
    "    if type(i) == dict:\n",
    "        print(list(i.values()))"
   ]
  },
  {
   "cell_type": "code",
   "execution_count": null,
   "id": "77d23448",
   "metadata": {},
   "outputs": [],
   "source": []
  }
 ],
 "metadata": {
  "kernelspec": {
   "display_name": "Python 3 (ipykernel)",
   "language": "python",
   "name": "python3"
  },
  "language_info": {
   "codemirror_mode": {
    "name": "ipython",
    "version": 3
   },
   "file_extension": ".py",
   "mimetype": "text/x-python",
   "name": "python",
   "nbconvert_exporter": "python",
   "pygments_lexer": "ipython3",
   "version": "3.9.12"
  }
 },
 "nbformat": 4,
 "nbformat_minor": 5
}
