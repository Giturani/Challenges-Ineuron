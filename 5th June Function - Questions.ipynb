{
 "cells": [
  {
   "cell_type": "raw",
   "id": "bbd3b92e",
   "metadata": {},
   "source": [
    "Todays task :\n",
    "    q1 : Try to print a prime number in between 1 to 1000          \n",
    "        shivan@ineuron.ai\n",
    "        sudhanshu@ineuron.ai"
   ]
  },
  {
   "cell_type": "code",
   "execution_count": 1,
   "id": "ebdad18d",
   "metadata": {},
   "outputs": [],
   "source": [
    "def prime1(a):\n",
    "    l = []\n",
    "    for i in range(2,a):\n",
    "        flag = True\n",
    "        for j in range(2,i):\n",
    "            if i%j == 0:\n",
    "                flag = False\n",
    "                break;\n",
    "        if flag == True:\n",
    "            l.append(i)\n",
    "    print(l)"
   ]
  },
  {
   "cell_type": "code",
   "execution_count": 2,
   "id": "dcc034ce",
   "metadata": {},
   "outputs": [
    {
     "name": "stdout",
     "output_type": "stream",
     "text": [
      "[2, 3, 5, 7, 11, 13, 17, 19, 23, 29, 31, 37, 41, 43, 47, 53, 59, 61, 67, 71, 73, 79, 83, 89, 97, 101, 103, 107, 109, 113, 127, 131, 137, 139, 149, 151, 157, 163, 167, 173, 179, 181, 191, 193, 197, 199, 211, 223, 227, 229, 233, 239, 241, 251, 257, 263, 269, 271, 277, 281, 283, 293, 307, 311, 313, 317, 331, 337, 347, 349, 353, 359, 367, 373, 379, 383, 389, 397, 401, 409, 419, 421, 431, 433, 439, 443, 449, 457, 461, 463, 467, 479, 487, 491, 499, 503, 509, 521, 523, 541, 547, 557, 563, 569, 571, 577, 587, 593, 599, 601, 607, 613, 617, 619, 631, 641, 643, 647, 653, 659, 661, 673, 677, 683, 691, 701, 709, 719, 727, 733, 739, 743, 751, 757, 761, 769, 773, 787, 797, 809, 811, 821, 823, 827, 829, 839, 853, 857, 859, 863, 877, 881, 883, 887, 907, 911, 919, 929, 937, 941, 947, 953, 967, 971, 977, 983, 991, 997]\n"
     ]
    }
   ],
   "source": [
    "prime1(1000)"
   ]
  },
  {
   "cell_type": "raw",
   "id": "b3a6c256",
   "metadata": {},
   "source": [
    "q2 : Try to write a function which  is equivalent  to print function in python"
   ]
  },
  {
   "cell_type": "raw",
   "id": "28e4a1a8",
   "metadata": {},
   "source": [
    "q3 : Try to write a function which is a replica of list append , extend and pop function"
   ]
  },
  {
   "cell_type": "raw",
   "id": "696ca7a0",
   "metadata": {},
   "source": [
    "q4 : Try to write a lambda function which can return a concatination of all the string that we will pass"
   ]
  },
  {
   "cell_type": "code",
   "execution_count": 3,
   "id": "287f1fd8",
   "metadata": {},
   "outputs": [],
   "source": [
    "l1 = lambda *a : ''.join([i for i in a])"
   ]
  },
  {
   "cell_type": "code",
   "execution_count": 4,
   "id": "8bebf465",
   "metadata": {},
   "outputs": [
    {
     "data": {
      "text/plain": [
       "'GitAnjali'"
      ]
     },
     "execution_count": 4,
     "metadata": {},
     "output_type": "execute_result"
    }
   ],
   "source": [
    "l1('Git','Anjali')"
   ]
  },
  {
   "cell_type": "code",
   "execution_count": 5,
   "id": "a47f0c17",
   "metadata": {},
   "outputs": [],
   "source": [
    "def fun1(*a):\n",
    "    str = ''\n",
    "    for i in a:\n",
    "        str += i\n",
    "    return str"
   ]
  },
  {
   "cell_type": "code",
   "execution_count": 6,
   "id": "a877d795",
   "metadata": {},
   "outputs": [
    {
     "data": {
      "text/plain": [
       "'GitSushilLove'"
      ]
     },
     "execution_count": 6,
     "metadata": {},
     "output_type": "execute_result"
    }
   ],
   "source": [
    "fun1(\"Git\",\"Sushil\",\"Love\")"
   ]
  },
  {
   "cell_type": "raw",
   "id": "0b377103",
   "metadata": {},
   "source": [
    "q5 : Try to write a lambda function which can return list of square of all the data between 1-100 "
   ]
  },
  {
   "cell_type": "code",
   "execution_count": 7,
   "id": "49e03495",
   "metadata": {},
   "outputs": [],
   "source": [
    "l = lambda a : [i*i for i in range(a+1)]"
   ]
  },
  {
   "cell_type": "code",
   "execution_count": 8,
   "id": "c1272a0f",
   "metadata": {},
   "outputs": [
    {
     "data": {
      "text/plain": [
       "[0,\n",
       " 1,\n",
       " 4,\n",
       " 9,\n",
       " 16,\n",
       " 25,\n",
       " 36,\n",
       " 49,\n",
       " 64,\n",
       " 81,\n",
       " 100,\n",
       " 121,\n",
       " 144,\n",
       " 169,\n",
       " 196,\n",
       " 225,\n",
       " 256,\n",
       " 289,\n",
       " 324,\n",
       " 361,\n",
       " 400,\n",
       " 441,\n",
       " 484,\n",
       " 529,\n",
       " 576,\n",
       " 625,\n",
       " 676,\n",
       " 729,\n",
       " 784,\n",
       " 841,\n",
       " 900,\n",
       " 961,\n",
       " 1024,\n",
       " 1089,\n",
       " 1156,\n",
       " 1225,\n",
       " 1296,\n",
       " 1369,\n",
       " 1444,\n",
       " 1521,\n",
       " 1600,\n",
       " 1681,\n",
       " 1764,\n",
       " 1849,\n",
       " 1936,\n",
       " 2025,\n",
       " 2116,\n",
       " 2209,\n",
       " 2304,\n",
       " 2401,\n",
       " 2500,\n",
       " 2601,\n",
       " 2704,\n",
       " 2809,\n",
       " 2916,\n",
       " 3025,\n",
       " 3136,\n",
       " 3249,\n",
       " 3364,\n",
       " 3481,\n",
       " 3600,\n",
       " 3721,\n",
       " 3844,\n",
       " 3969,\n",
       " 4096,\n",
       " 4225,\n",
       " 4356,\n",
       " 4489,\n",
       " 4624,\n",
       " 4761,\n",
       " 4900,\n",
       " 5041,\n",
       " 5184,\n",
       " 5329,\n",
       " 5476,\n",
       " 5625,\n",
       " 5776,\n",
       " 5929,\n",
       " 6084,\n",
       " 6241,\n",
       " 6400,\n",
       " 6561,\n",
       " 6724,\n",
       " 6889,\n",
       " 7056,\n",
       " 7225,\n",
       " 7396,\n",
       " 7569,\n",
       " 7744,\n",
       " 7921,\n",
       " 8100,\n",
       " 8281,\n",
       " 8464,\n",
       " 8649,\n",
       " 8836,\n",
       " 9025,\n",
       " 9216,\n",
       " 9409,\n",
       " 9604,\n",
       " 9801,\n",
       " 10000]"
      ]
     },
     "execution_count": 8,
     "metadata": {},
     "output_type": "execute_result"
    }
   ],
   "source": [
    "l(100)"
   ]
  },
  {
   "cell_type": "raw",
   "id": "6ff4002e",
   "metadata": {},
   "source": [
    "q6 : Try to write a 10 Different different example of lambda function with a choice of your task"
   ]
  },
  {
   "cell_type": "code",
   "execution_count": 9,
   "id": "5283b0c8",
   "metadata": {},
   "outputs": [
    {
     "name": "stdout",
     "output_type": "stream",
     "text": [
      "14\n"
     ]
    }
   ],
   "source": [
    "#add 10\n",
    "x = lambda a : a + 10\n",
    "print(x(4))"
   ]
  },
  {
   "cell_type": "code",
   "execution_count": 10,
   "id": "ba9781c0",
   "metadata": {},
   "outputs": [
    {
     "name": "stdout",
     "output_type": "stream",
     "text": [
      "15\n"
     ]
    }
   ],
   "source": [
    "x = lambda a,b : a + b\n",
    "print(x(10,5))"
   ]
  },
  {
   "cell_type": "code",
   "execution_count": 11,
   "id": "3c0c8727",
   "metadata": {},
   "outputs": [
    {
     "data": {
      "text/plain": [
       "[16, 25, 4489, 7921, 144]"
      ]
     },
     "execution_count": 11,
     "metadata": {},
     "output_type": "execute_result"
    }
   ],
   "source": [
    "x = lambda *m : [i*i for i in m]\n",
    "x(4,5,67,89,12)"
   ]
  },
  {
   "cell_type": "code",
   "execution_count": 12,
   "id": "9301af4d",
   "metadata": {},
   "outputs": [
    {
     "data": {
      "text/plain": [
       "[64, 125, 300763, 704969, 1728]"
      ]
     },
     "execution_count": 12,
     "metadata": {},
     "output_type": "execute_result"
    }
   ],
   "source": [
    "x = lambda *m : [i**3 for i in m]\n",
    "x(4,5,67,89,12)"
   ]
  },
  {
   "cell_type": "code",
   "execution_count": 13,
   "id": "172ea6f4",
   "metadata": {},
   "outputs": [
    {
     "data": {
      "text/plain": [
       "[4, 6]"
      ]
     },
     "execution_count": 13,
     "metadata": {},
     "output_type": "execute_result"
    }
   ],
   "source": [
    "x = lambda *m : [i for i in m if type(i) == int]\n",
    "x(4,6,'g','abc','git','anjali','love')"
   ]
  },
  {
   "cell_type": "code",
   "execution_count": 14,
   "id": "9ce5c7d7",
   "metadata": {},
   "outputs": [
    {
     "data": {
      "text/plain": [
       "[['G'], ['i'], ['t'], ['a']]"
      ]
     },
     "execution_count": 14,
     "metadata": {},
     "output_type": "execute_result"
    }
   ],
   "source": [
    "x = lambda m : [i.split('.') for i in m if type(i) == str]\n",
    "x('Gita')"
   ]
  },
  {
   "cell_type": "code",
   "execution_count": 15,
   "id": "32d57b28",
   "metadata": {},
   "outputs": [
    {
     "data": {
      "text/plain": [
       "['*****ABCDE*****', '******sefr*****', '******wxyz*****']"
      ]
     },
     "execution_count": 15,
     "metadata": {},
     "output_type": "execute_result"
    }
   ],
   "source": [
    "x = lambda *m : [i.center(15,'*') for i in m if type(i) ==  str]\n",
    "x('ABCDE','sefr','wxyz')"
   ]
  },
  {
   "cell_type": "code",
   "execution_count": 16,
   "id": "0e70c95f",
   "metadata": {},
   "outputs": [
    {
     "data": {
      "text/plain": [
       "[{4, 5, 6, 7, 8, 9}, {3, 4, 5}, {2, 6, 7, 8, 9}]"
      ]
     },
     "execution_count": 16,
     "metadata": {},
     "output_type": "execute_result"
    }
   ],
   "source": [
    "x = lambda *m : [set(i) for i in m if type(i) == list]\n",
    "x([4,5,6,7,8,9,9,9,9],[3,4,4,4,5,5],[6,7,8,9,2])"
   ]
  },
  {
   "cell_type": "code",
   "execution_count": 17,
   "id": "31999a62",
   "metadata": {},
   "outputs": [
    {
     "data": {
      "text/plain": [
       "[2, 4, 6, 8, 10, 16, 30]"
      ]
     },
     "execution_count": 17,
     "metadata": {},
     "output_type": "execute_result"
    }
   ],
   "source": [
    "x = lambda *m : [i*1 for i in m if i%2 == 0]\n",
    "x(2,3,4,6,8,10,16,25,30)"
   ]
  },
  {
   "cell_type": "code",
   "execution_count": 18,
   "id": "94f1a6bc",
   "metadata": {},
   "outputs": [
    {
     "data": {
      "text/plain": [
       "[4, 5, 8.5]"
      ]
     },
     "execution_count": 18,
     "metadata": {},
     "output_type": "execute_result"
    }
   ],
   "source": [
    "x = lambda **g : [i for i in g.values() if type(i) == int or type(i) == float]\n",
    "x(a = 4, b = 'main' , c = 5 , d = 8.5)"
   ]
  },
  {
   "cell_type": "raw",
   "id": "ed75c077",
   "metadata": {},
   "source": [
    " q7 : Try to write a funtion which can perform a read operation from .txt file "
   ]
  },
  {
   "cell_type": "code",
   "execution_count": 19,
   "id": "7cbadf06",
   "metadata": {},
   "outputs": [
    {
     "name": "stdout",
     "output_type": "stream",
     "text": [
      "Hi\n",
      "Hello\n",
      "How are you?\n"
     ]
    }
   ],
   "source": [
    "def file_read():\n",
    "    f = open(\"Myfile.txt\",'r')\n",
    "    print(f.read())\n",
    "    f.close()\n",
    "file_read()"
   ]
  }
 ],
 "metadata": {
  "kernelspec": {
   "display_name": "Python 3 (ipykernel)",
   "language": "python",
   "name": "python3"
  },
  "language_info": {
   "codemirror_mode": {
    "name": "ipython",
    "version": 3
   },
   "file_extension": ".py",
   "mimetype": "text/x-python",
   "name": "python",
   "nbconvert_exporter": "python",
   "pygments_lexer": "ipython3",
   "version": "3.9.12"
  }
 },
 "nbformat": 4,
 "nbformat_minor": 5
}
