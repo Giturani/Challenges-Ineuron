{
 "cells": [
  {
   "cell_type": "code",
   "execution_count": 1,
   "id": "02a4114f",
   "metadata": {},
   "outputs": [],
   "source": [
    "s = \"this is My First Python programming class and i am learNING python string and its function\""
   ]
  },
  {
   "cell_type": "code",
   "execution_count": 2,
   "id": "dc19e159",
   "metadata": {},
   "outputs": [
    {
     "data": {
      "text/plain": [
       "'h   r tnrrmglsnimeNGyosi dtfco'"
      ]
     },
     "execution_count": 2,
     "metadata": {},
     "output_type": "execute_result"
    }
   ],
   "source": [
    "# 1 . Try to extract data from index one to index 300 with a jump of 3\n",
    "s[1:300:3]"
   ]
  },
  {
   "cell_type": "code",
   "execution_count": 3,
   "id": "ef8f8b76",
   "metadata": {},
   "outputs": [
    {
     "data": {
      "text/plain": [
       "'noitcnuf sti dna gnirts nohtyp GNINrael ma i dna ssalc gnimmargorp nohtyP tsriF yM si siht'"
      ]
     },
     "execution_count": 3,
     "metadata": {},
     "output_type": "execute_result"
    }
   ],
   "source": [
    "# 2. Try to reverse a string without using reverse function\n",
    "s[-1:0:-1]+s[0]"
   ]
  },
  {
   "cell_type": "code",
   "execution_count": 4,
   "id": "ef2e0d67",
   "metadata": {},
   "outputs": [
    {
     "data": {
      "text/plain": [
       "['THIS',\n",
       " 'IS',\n",
       " 'MY',\n",
       " 'FIRST',\n",
       " 'PYTHON',\n",
       " 'PROGRAMMING',\n",
       " 'CLASS',\n",
       " 'AND',\n",
       " 'I',\n",
       " 'AM',\n",
       " 'LEARNING',\n",
       " 'PYTHON',\n",
       " 'STRING',\n",
       " 'AND',\n",
       " 'ITS',\n",
       " 'FUNCTION']"
      ]
     },
     "execution_count": 4,
     "metadata": {},
     "output_type": "execute_result"
    }
   ],
   "source": [
    "# 3. Try to split a string after conversion of entire string in uppercase\n",
    "(s.upper()).split(\" \")"
   ]
  },
  {
   "cell_type": "code",
   "execution_count": 5,
   "id": "85c15807",
   "metadata": {},
   "outputs": [
    {
     "data": {
      "text/plain": [
       "'this is my first python programming class and i am learning python string and its function'"
      ]
     },
     "execution_count": 5,
     "metadata": {},
     "output_type": "execute_result"
    }
   ],
   "source": [
    "# 4. try to convert the whole string into lower case\n",
    "s.lower()"
   ]
  },
  {
   "cell_type": "code",
   "execution_count": 6,
   "id": "65ed6f21",
   "metadata": {},
   "outputs": [
    {
     "data": {
      "text/plain": [
       "'This is my first python programming class and i am learning python string and its function'"
      ]
     },
     "execution_count": 6,
     "metadata": {},
     "output_type": "execute_result"
    }
   ],
   "source": [
    "# 5 . Try to capitalize the whole string\n",
    "s.capitalize()"
   ]
  },
  {
   "cell_type": "code",
   "execution_count": 7,
   "id": "17afd1ae",
   "metadata": {},
   "outputs": [
    {
     "data": {
      "text/plain": [
       "False"
      ]
     },
     "execution_count": 7,
     "metadata": {},
     "output_type": "execute_result"
    }
   ],
   "source": [
    "# 6 . Write a diference between isalnum() and isalpha()\n",
    "\"\"\"A string is alpha-numeric if all characters in the string are alpha-numeric and there is at least one character in the string.\"\"\"\n",
    "\"\"\" A string is alphabetic if all characters in the string are alphabetic and there is at least one character in the string.\"\"\"\n",
    "s.isalnum()"
   ]
  },
  {
   "cell_type": "code",
   "execution_count": 8,
   "id": "40a1b33e",
   "metadata": {},
   "outputs": [
    {
     "data": {
      "text/plain": [
       "False"
      ]
     },
     "execution_count": 8,
     "metadata": {},
     "output_type": "execute_result"
    }
   ],
   "source": [
    "s.isalpha()"
   ]
  },
  {
   "cell_type": "code",
   "execution_count": 9,
   "id": "1f36e5a2",
   "metadata": {},
   "outputs": [
    {
     "data": {
      "text/plain": [
       "'My      name    is      Gitanjali'"
      ]
     },
     "execution_count": 9,
     "metadata": {},
     "output_type": "execute_result"
    }
   ],
   "source": [
    "# 7. Try to give an example of expand tab\n",
    "\"\"\"Return a copy where all tab characters are expanded using spaces.\n",
    "If tabsize is not given, a tab size of 8 characters is assumed. \"\"\"\n",
    "\n",
    "name = \"My\\tname\\tis\\tGitanjali\"\n",
    "name.expandtabs()"
   ]
  },
  {
   "cell_type": "code",
   "execution_count": 10,
   "id": "47e7d6c9",
   "metadata": {},
   "outputs": [
    {
     "data": {
      "text/plain": [
       "'This is\\na\\nSchool'"
      ]
     },
     "execution_count": 10,
     "metadata": {},
     "output_type": "execute_result"
    }
   ],
   "source": [
    "School = \"This is\\na\\nSchool\"\n",
    "School.expandtabs()"
   ]
  },
  {
   "cell_type": "code",
   "execution_count": 11,
   "id": "66d44e3b",
   "metadata": {},
   "outputs": [
    {
     "data": {
      "text/plain": [
       "'My                  name                is                  Gitanjali'"
      ]
     },
     "execution_count": 11,
     "metadata": {},
     "output_type": "execute_result"
    }
   ],
   "source": [
    "name.expandtabs(20)"
   ]
  },
  {
   "cell_type": "code",
   "execution_count": 12,
   "id": "9984cedd",
   "metadata": {},
   "outputs": [
    {
     "data": {
      "text/plain": [
       "'I had a fun          yesterday    last night'"
      ]
     },
     "execution_count": 12,
     "metadata": {},
     "output_type": "execute_result"
    }
   ],
   "source": [
    "# 8 . Give an example of strip , lstrip and rstrip\n",
    "\"\"\"\n",
    "strip :Return a copy of the string with leading and trailing whitespace removed.\n",
    "lstrip():Return a copy of the string with leading whitespace removed.\n",
    "rstrip():Return a copy of the string with trailing whitespace removed.\n",
    "\"\"\"\n",
    "Fun = \"   I had a fun          yesterday    last night      \"\n",
    "Fun.strip()"
   ]
  },
  {
   "cell_type": "code",
   "execution_count": 13,
   "id": "d3d61200",
   "metadata": {},
   "outputs": [
    {
     "data": {
      "text/plain": [
       "'I had a fun          yesterday    last night      '"
      ]
     },
     "execution_count": 13,
     "metadata": {},
     "output_type": "execute_result"
    }
   ],
   "source": [
    "Fun.lstrip()"
   ]
  },
  {
   "cell_type": "code",
   "execution_count": 14,
   "id": "a91188da",
   "metadata": {},
   "outputs": [
    {
     "data": {
      "text/plain": [
       "'   I had a fun          yesterday    last night'"
      ]
     },
     "execution_count": 14,
     "metadata": {},
     "output_type": "execute_result"
    }
   ],
   "source": [
    "Fun.rstrip()"
   ]
  },
  {
   "cell_type": "code",
   "execution_count": 15,
   "id": "33b448cb",
   "metadata": {},
   "outputs": [
    {
     "data": {
      "text/plain": [
       "'sghfbdn'"
      ]
     },
     "execution_count": 15,
     "metadata": {},
     "output_type": "execute_result"
    }
   ],
   "source": [
    "abc = \"####sghfbdn####\"\n",
    "abc.strip('#')"
   ]
  },
  {
   "cell_type": "code",
   "execution_count": 16,
   "id": "80b834a4",
   "metadata": {},
   "outputs": [
    {
     "data": {
      "text/plain": [
       "'sghfbdn####'"
      ]
     },
     "execution_count": 16,
     "metadata": {},
     "output_type": "execute_result"
    }
   ],
   "source": [
    "abc.lstrip('#')"
   ]
  },
  {
   "cell_type": "code",
   "execution_count": 17,
   "id": "15e88d77",
   "metadata": {},
   "outputs": [
    {
     "data": {
      "text/plain": [
       "'####sghfbdn'"
      ]
     },
     "execution_count": 17,
     "metadata": {},
     "output_type": "execute_result"
    }
   ],
   "source": [
    "abc.rstrip('#')"
   ]
  },
  {
   "cell_type": "code",
   "execution_count": 18,
   "id": "0448d72b",
   "metadata": {},
   "outputs": [
    {
     "data": {
      "text/plain": [
       "'LoveoIndia'"
      ]
     },
     "execution_count": 18,
     "metadata": {},
     "output_type": "execute_result"
    }
   ],
   "source": [
    "#9.  Replace a string charecter by another charector by taking your own example \"sudhanshu\"\n",
    "s1 = \"L0ve0India\"\n",
    "s1.replace('0','o',2)"
   ]
  },
  {
   "cell_type": "code",
   "execution_count": 19,
   "id": "23b15711",
   "metadata": {},
   "outputs": [
    {
     "data": {
      "text/plain": [
       "'Love0India'"
      ]
     },
     "execution_count": 19,
     "metadata": {},
     "output_type": "execute_result"
    }
   ],
   "source": [
    "s1.replace('0','o',1)"
   ]
  },
  {
   "cell_type": "code",
   "execution_count": 20,
   "id": "c7edf054",
   "metadata": {},
   "outputs": [
    {
     "data": {
      "text/plain": [
       "'******************************************I love my India*******************************************'"
      ]
     },
     "execution_count": 20,
     "metadata": {},
     "output_type": "execute_result"
    }
   ],
   "source": [
    "# 10 . Try  to give a defination of string center function with and exmple\n",
    "\"\"\" Return a centered string of length width.\n",
    "Padding is done using the specified fill character (default is a space).\"\"\"\n",
    "\n",
    "s2 = \"I love my India\"\n",
    "s2.center(100,\"*\")"
   ]
  },
  {
   "cell_type": "code",
   "execution_count": 21,
   "id": "222d9959",
   "metadata": {},
   "outputs": [
    {
     "data": {
      "text/plain": [
       "'I love my India'"
      ]
     },
     "execution_count": 21,
     "metadata": {},
     "output_type": "execute_result"
    }
   ],
   "source": [
    "s2.center(10, \"$\")"
   ]
  },
  {
   "cell_type": "code",
   "execution_count": 22,
   "id": "7aa51594",
   "metadata": {},
   "outputs": [
    {
     "data": {
      "text/plain": [
       "'$$$$$I love my India$$$$$'"
      ]
     },
     "execution_count": 22,
     "metadata": {},
     "output_type": "execute_result"
    }
   ],
   "source": [
    "s2.center(len(s2)+10, \"$\")"
   ]
  },
  {
   "cell_type": "raw",
   "id": "2c2a2d00",
   "metadata": {},
   "source": [
    "# 11 . Write your own definition of compiler and interpretor without copy paste form internet in your own language\n",
    "\n",
    "Compiler - It is a type of software that runs or executes the written code at once or runs the whole codes with one go.\n",
    "Interpretoor - It executes the written code line by line or one line at a time into machine code."
   ]
  },
  {
   "cell_type": "raw",
   "id": "19de5b88",
   "metadata": {},
   "source": [
    "# 12 . Python is a interpreted or compiled language give a clear ans with your understanding \n",
    "\"\"\"  For this Question \"Python is a interpreted or compiled language\" its better to see practical example by giving a error.\n",
    "    \n",
    "    so, in this\n",
    "    \n",
    "    a=\"Pooja\" # \"Pooja\" is assign to a ok  correct\n",
    "    print(\"Hello World\") # print \"pooja\"  as it don't have any error and we get our output so hmm Good\n",
    "    print(a+2)# print pooja2 but error as str not concetenate with int  nd we get error too\n",
    "    print(\"pooja\"*2)# print poojapooja  this statement is correct but not print  as we get error in above line python not execute this statement \n",
    "    \n",
    "    \n",
    "   So, as we seen in example python execute line by line and get error stop in that line only not even go to next that only mean \"Python is Interpreter\".\"\"\"\n",
    "a=\"Pooja\"\n",
    "print(\"Hello World\")\n",
    "print(a+2)\n",
    "print(\"pooja\"*2)\n"
   ]
  },
  {
   "cell_type": "raw",
   "id": "f99196d4",
   "metadata": {},
   "source": [
    "#13 . Try to write a usecase of python with your understanding .\n",
    " Web Development using  Django, Pyramid, and Flask frameworks.\n",
    "    Scientific Computing using Numpy and Pandas\n",
    "    Machine Learning and AI\n",
    "    Data Visualization\n",
    "    Game development\n",
    "    Desktop Application using Tk library\n",
    "    \n",
    "    1. Face Detection \n",
    "2. Vehicle Number Plate Detection \n",
    "3. Stock Exchange Trading Apps that have AI for trading analysis \n",
    "4. Phone Keyboard\n",
    "5. Snapchat's Bitmoji predictor\n",
    "6. Google Map \n",
    "7. Airlines ticket price predicter\n",
    "\n",
    "1) System Programming\n",
    "\n",
    "2) GUI Interface\n",
    "\n",
    "3) WEb Scrapping\n",
    "\n",
    "4) Data bases\n",
    "\n",
    "5) Scientific Programming / Numeric Programming\n",
    "\n",
    "6) Game\n",
    "\n",
    "7) Image processing\n",
    "\n",
    "8) Robotics.\n",
    "\n",
    "9) CAD Application.\n"
   ]
  },
  {
   "cell_type": "code",
   "execution_count": 26,
   "id": "d0ee8009",
   "metadata": {},
   "outputs": [],
   "source": [
    "# you have to send a jupyter notebook to shivan@ineuron.ai before next saturday class 21st of may ."
   ]
  },
  {
   "cell_type": "code",
   "execution_count": null,
   "id": "f4d313dc",
   "metadata": {},
   "outputs": [],
   "source": []
  }
 ],
 "metadata": {
  "kernelspec": {
   "display_name": "Python 3 (ipykernel)",
   "language": "python",
   "name": "python3"
  },
  "language_info": {
   "codemirror_mode": {
    "name": "ipython",
    "version": 3
   },
   "file_extension": ".py",
   "mimetype": "text/x-python",
   "name": "python",
   "nbconvert_exporter": "python",
   "pygments_lexer": "ipython3",
   "version": "3.9.12"
  }
 },
 "nbformat": 4,
 "nbformat_minor": 5
}
