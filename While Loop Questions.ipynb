{
 "cells": [
  {
   "cell_type": "raw",
   "id": "c284376e",
   "metadata": {},
   "source": [
    "Your First Challenge : \n",
    "    \n",
    "you have to submit it by next saturday 4th june 2022  : \n",
    "    shivan@ineuron.ai ,sudhanshu@ineuron.ai\n",
    "\n",
    "q15 :write a fun which will be able to print an index of all premitive element which you will pass \n",
    "\n",
    "q17 : write a function whihc will take multiple list as a input and give me concatnation of all the element as \n",
    "and output\n",
    "\n",
    "q18 : Write a function which will whould return list of all the file name from a directory . \n",
    "\n",
    "q19 : write a function whihc will be able to read a image file and show it to you .\n",
    "    \n",
    "q20 : write a function by which you will be able to append two PDF files . \n",
    "    \n",
    "q21 : write a function which can help you to filter only word file from a directory . \n",
    "    \n",
    "q22 : write a function which can read video file and play for you . \n",
    "    \n",
    "q23 : write a function which will be able to shutdonw your system . \n",
    "\n",
    "q24 : Write a function which will whould return list of all the file name from a directory . \n",
    "\n",
    "q25 : write a function whihc will be able to access your mail ."
   ]
  },
  {
   "cell_type": "raw",
   "id": "2c8e54c1",
   "metadata": {},
   "source": [
    "q1 : Try to print this by using while loop \n",
    "* \n",
    "* * \n",
    "* * * \n",
    "* * * * \n",
    "* * * * * \n",
    "* * * * * * \n",
    "* * * * * * * \n",
    "* * * * * * * * \n",
    "* * * * * * * * * "
   ]
  },
  {
   "cell_type": "code",
   "execution_count": 1,
   "id": "a3137f82",
   "metadata": {},
   "outputs": [
    {
     "name": "stdout",
     "output_type": "stream",
     "text": [
      "* \n",
      "* * \n",
      "* * * \n",
      "* * * * \n",
      "* * * * * \n",
      "* * * * * * \n",
      "* * * * * * * \n",
      "* * * * * * * * \n",
      "* * * * * * * * * \n"
     ]
    }
   ],
   "source": [
    "n = 9\n",
    "i=1\n",
    "while(i<=n):\n",
    "    j=1\n",
    "    while(j<=i):\n",
    "        print(\"*\",end=\" \")\n",
    "        j=j+1\n",
    "    i=i+1\n",
    "    print()"
   ]
  },
  {
   "cell_type": "raw",
   "id": "e22c65a8",
   "metadata": {},
   "source": [
    "q2 : try to print below by using while loop : \n",
    "        \n",
    "A\n",
    "B H \n",
    "C I N\n",
    "D J o S\n",
    "E K p T W\n",
    "F L Q U X z\n",
    "G M R V Y"
   ]
  },
  {
   "cell_type": "code",
   "execution_count": 2,
   "id": "94486587",
   "metadata": {},
   "outputs": [
    {
     "name": "stdout",
     "output_type": "stream",
     "text": [
      "A \r\n",
      "B H \r\n",
      "C I N \r\n",
      "D J O S \r\n",
      "E K P T W \r\n",
      "F L Q U X Z \r\n",
      "G M R V Y \r\n"
     ]
    }
   ],
   "source": [
    "n = 7\n",
    "i = 1\n",
    "sum = 64\n",
    "\n",
    "# Outer loop for how many lines we want to print\n",
    "while(i<=n): \n",
    "    k = sum + i\n",
    "    j = 1\n",
    "\n",
    "    # Inner loop for printing natural number\n",
    "    while(j <= i):\n",
    "        if ord('Z') >= k:\n",
    "            print (chr(k),end=\" \")\n",
    "\n",
    "            # Logic to print natural value column-wise\n",
    "            k = k + n - j\n",
    "            j = j + 1\n",
    "        else:\n",
    "            break\n",
    "    print(\"\\r\")\n",
    "    i = i + 1"
   ]
  },
  {
   "cell_type": "raw",
   "id": "a18c7e85",
   "metadata": {},
   "source": [
    "q3 : Try to print all the number divisible by 3 in between a range of 40 - 400"
   ]
  },
  {
   "cell_type": "code",
   "execution_count": 3,
   "id": "fb57b9a5",
   "metadata": {},
   "outputs": [
    {
     "name": "stdout",
     "output_type": "stream",
     "text": [
      "42 45 48 51 54 57 60 63 66 69 72 75 78 81 84 87 90 93 96 99 102 105 108 111 114 117 120 123 126 129 132 135 138 141 144 147 150 153 156 159 162 165 168 171 174 177 180 183 186 189 192 195 198 201 204 207 210 213 216 219 222 225 228 231 234 237 240 243 246 249 252 255 258 261 264 267 270 273 276 279 282 285 288 291 294 297 300 303 306 309 312 315 318 321 324 327 330 333 336 339 342 345 348 351 354 357 360 363 366 369 372 375 378 381 384 387 390 393 396 399 "
     ]
    }
   ],
   "source": [
    "for i in range(40,401):\n",
    "    if i%3 == 0:\n",
    "        print(i,end = \" \")\n",
    "    else:\n",
    "        pass"
   ]
  },
  {
   "cell_type": "code",
   "execution_count": 1,
   "id": "4d5dda70",
   "metadata": {},
   "outputs": [
    {
     "name": "stdout",
     "output_type": "stream",
     "text": [
      "42 45 48 51 54 57 60 63 66 69 72 75 78 81 84 87 90 93 96 99 102 105 108 111 114 117 120 123 126 129 132 135 138 141 144 147 150 153 156 159 162 165 168 171 174 177 180 183 186 189 192 195 198 201 204 207 210 213 216 219 222 225 228 231 234 237 240 243 246 249 252 255 258 261 264 267 270 273 276 279 282 285 288 291 294 297 300 303 306 309 312 315 318 321 324 327 330 333 336 339 342 345 348 351 354 357 360 363 366 369 372 375 378 381 384 387 390 393 396 399 "
     ]
    }
   ],
   "source": [
    "i = 40\n",
    "while i<=400:\n",
    "    if i%3 == 0:\n",
    "        print(i,end=\" \")\n",
    "    else:\n",
    "        pass\n",
    "    i = i + 1"
   ]
  },
  {
   "cell_type": "raw",
   "id": "c317013c",
   "metadata": {},
   "source": [
    "q4 : Try to filter out all the vowels form below text by using while loop : \n",
    " \"\"\"Python is a high-level, interpreted, general-purpose programming language. Its design philosophy emphasizes code readability with the use of significant indentation.[32]\n",
    "\n",
    "Python is dynamically-typed and garbage-collected. It supports multiple programming paradigms, including structured (particularly procedural), object-oriented and functional programming. It is often described as a \"batteries included\" language due to its comprehensive standard library.[33][34]\n",
    "\n",
    "Guido van Rossum began working on Python in the late 1980s as a successor to the ABC programming language and first released it in 1991 as Python 0.9.0.[35] Python 2.0 was released in 2000 and introduced new features such as list comprehensions, cycle-detecting garbage collection, reference counting, and Unicode support. Python 3.0, released in 2008, was a major revision that is not completely backward-compatible with earlier versions. Python 2 was discontinued with version 2.7.18 in 2020.[36]\n",
    "\n",
    "Python consistently ranks as one of the most popular programming languagesc\"\"\" "
   ]
  },
  {
   "cell_type": "code",
   "execution_count": 8,
   "id": "ceb7871d",
   "metadata": {},
   "outputs": [],
   "source": [
    "str1 =  \"\"\"Python is a high-level, interpreted, general-purpose programming language. Its design philosophy emphasizes code readability with the use of significant indentation.[32]\n",
    "\n",
    "Python is dynamically-typed and garbage-collected. It supports multiple programming paradigms, including structured (particularly procedural), object-oriented and functional programming. It is often described as a \"batteries included\" language due to its comprehensive standard library.[33][34]\n",
    "\n",
    "Guido van Rossum began working on Python in the late 1980s as a successor to the ABC programming language and first released it in 1991 as Python 0.9.0.[35] Python 2.0 was released in 2000 and introduced new features such as list comprehensions, cycle-detecting garbage collection, reference counting, and Unicode support. Python 3.0, released in 2008, was a major revision that is not completely backward-compatible with earlier versions. Python 2 was discontinued with version 2.7.18 in 2020.[36]\n",
    "\n",
    "Python consistently ranks as one of the most popular programming languagesc\"\"\""
   ]
  },
  {
   "cell_type": "code",
   "execution_count": 12,
   "id": "3cbdb97e",
   "metadata": {},
   "outputs": [
    {
     "name": "stdout",
     "output_type": "stream",
     "text": [
      "o i a i e e i e e e e e a u o e o a i a u a e i e i i o o e a i e o e e a a i i i e u e o i i i a i e a i o o i a i a e a a a e o e e i u o u i e o a i a a i i u i u u e a i u a o e u a o e o i e e a u i o a o a i i i o e e i e a a a e i e i u e a u a e u e o i o e e i e a a i a u i o a o u e a o i o o i e a e a a u e o o e a o a i a u a e a i e e a e i i a o o a e e a e i a i o u e e e a u e u a i o e e i o e e e i a a e o e i o e e e e o u i a u i o e u o o e e a e i a a a o e i i o a i o o e e a a o a i e i e a i e e i o o a i o i u e i e i o i o o i e a a o e o e o o u a o a i a u a e "
     ]
    }
   ],
   "source": [
    "def func2(str1):\n",
    "    i = 0\n",
    "    v = 'aeiou'\n",
    "    str1 = str1.lower()\n",
    "    while i < len(str1):\n",
    "        if str1[i] in v:\n",
    "            print(str1[i],end = \" \")\n",
    "        i = i + 1\n",
    "func2(str1)"
   ]
  },
  {
   "cell_type": "raw",
   "id": "048d5ed2",
   "metadata": {},
   "source": [
    "q5 : Try to generate all the even number between 1- 1000"
   ]
  },
  {
   "cell_type": "code",
   "execution_count": 7,
   "id": "e65ad67e",
   "metadata": {},
   "outputs": [
    {
     "name": "stdout",
     "output_type": "stream",
     "text": [
      "2 4 6 8 10 12 14 16 18 20 22 24 26 28 30 32 34 36 38 40 42 44 46 48 50 52 54 56 58 60 62 64 66 68 70 72 74 76 78 80 82 84 86 88 90 92 94 96 98 100 102 104 106 108 110 112 114 116 118 120 122 124 126 128 130 132 134 136 138 140 142 144 146 148 150 152 154 156 158 160 162 164 166 168 170 172 174 176 178 180 182 184 186 188 190 192 194 196 198 200 202 204 206 208 210 212 214 216 218 220 222 224 226 228 230 232 234 236 238 240 242 244 246 248 250 252 254 256 258 260 262 264 266 268 270 272 274 276 278 280 282 284 286 288 290 292 294 296 298 300 302 304 306 308 310 312 314 316 318 320 322 324 326 328 330 332 334 336 338 340 342 344 346 348 350 352 354 356 358 360 362 364 366 368 370 372 374 376 378 380 382 384 386 388 390 392 394 396 398 400 402 404 406 408 410 412 414 416 418 420 422 424 426 428 430 432 434 436 438 440 442 444 446 448 450 452 454 456 458 460 462 464 466 468 470 472 474 476 478 480 482 484 486 488 490 492 494 496 498 500 502 504 506 508 510 512 514 516 518 520 522 524 526 528 530 532 534 536 538 540 542 544 546 548 550 552 554 556 558 560 562 564 566 568 570 572 574 576 578 580 582 584 586 588 590 592 594 596 598 600 602 604 606 608 610 612 614 616 618 620 622 624 626 628 630 632 634 636 638 640 642 644 646 648 650 652 654 656 658 660 662 664 666 668 670 672 674 676 678 680 682 684 686 688 690 692 694 696 698 700 702 704 706 708 710 712 714 716 718 720 722 724 726 728 730 732 734 736 738 740 742 744 746 748 750 752 754 756 758 760 762 764 766 768 770 772 774 776 778 780 782 784 786 788 790 792 794 796 798 800 802 804 806 808 810 812 814 816 818 820 822 824 826 828 830 832 834 836 838 840 842 844 846 848 850 852 854 856 858 860 862 864 866 868 870 872 874 876 878 880 882 884 886 888 890 892 894 896 898 900 902 904 906 908 910 912 914 916 918 920 922 924 926 928 930 932 934 936 938 940 942 944 946 948 950 952 954 956 958 960 962 964 966 968 970 972 974 976 978 980 982 984 986 988 990 992 994 996 998 1000 "
     ]
    }
   ],
   "source": [
    "i = 1\n",
    "while i<=1000:\n",
    "    if i%2 == 0:\n",
    "        print(i,end = \" \")\n",
    "    i = i + 1"
   ]
  },
  {
   "cell_type": "raw",
   "id": "5a42f547",
   "metadata": {},
   "source": [
    "q6 : Define a function for all the above problem statememnt  . "
   ]
  },
  {
   "cell_type": "raw",
   "id": "1186c053",
   "metadata": {},
   "source": [
    "q7 : write a code to get a time of your system "
   ]
  },
  {
   "cell_type": "code",
   "execution_count": 13,
   "id": "4511be64",
   "metadata": {},
   "outputs": [
    {
     "data": {
      "text/plain": [
       "datetime.time(17, 52, 1, 904384)"
      ]
     },
     "execution_count": 13,
     "metadata": {},
     "output_type": "execute_result"
    }
   ],
   "source": [
    "import datetime\n",
    "datetime.datetime.now().time()"
   ]
  },
  {
   "cell_type": "raw",
   "id": "628c999d",
   "metadata": {},
   "source": [
    "q8 : Write a code to fetch date form your system "
   ]
  },
  {
   "cell_type": "code",
   "execution_count": 14,
   "id": "8bb98533",
   "metadata": {},
   "outputs": [
    {
     "data": {
      "text/plain": [
       "datetime.date(2022, 6, 4)"
      ]
     },
     "execution_count": 14,
     "metadata": {},
     "output_type": "execute_result"
    }
   ],
   "source": [
    "import datetime\n",
    "datetime.date.today()"
   ]
  },
  {
   "cell_type": "raw",
   "id": "1871bd3f",
   "metadata": {},
   "source": [
    "q9 : Write a code to send a mail to your friend "
   ]
  },
  {
   "cell_type": "code",
   "execution_count": 15,
   "id": "dcad1302",
   "metadata": {},
   "outputs": [],
   "source": [
    "import smtplib\n"
   ]
  },
  {
   "cell_type": "raw",
   "id": "4f8b4d61",
   "metadata": {},
   "source": [
    "q10 : write a code to trigger alarm for you at scheduled time "
   ]
  },
  {
   "cell_type": "raw",
   "id": "2b2e0f64",
   "metadata": {},
   "source": [
    "q11 : write a code to check ip address of your system "
   ]
  },
  {
   "cell_type": "code",
   "execution_count": 16,
   "id": "621ebd0c",
   "metadata": {},
   "outputs": [
    {
     "name": "stdout",
     "output_type": "stream",
     "text": [
      "192.168.43.248 LAPTOP-K6OCV1EG\n"
     ]
    }
   ],
   "source": [
    "import socket\n",
    "host = socket.gethostname()\n",
    "ip = socket.gethostbyname(host)\n",
    "print(ip,host)"
   ]
  },
  {
   "cell_type": "raw",
   "id": "a2bf694f",
   "metadata": {},
   "source": [
    "q12 : Write a code to check a perticular installation in your system"
   ]
  },
  {
   "cell_type": "code",
   "execution_count": 19,
   "id": "b335e87f",
   "metadata": {},
   "outputs": [
    {
     "data": {
      "text/plain": [
       "[InstalledApplication(name='7-Zip 19.00 (x64)', version='19.00', install_date=None, install_location=WindowsPath('C:/Program Files/7-Zip'), install_source=None, modify_path=None, publisher='Igor Pavlov', uninstall_string='C:\\\\Program Files\\\\7-Zip\\\\Uninstall.exe'),\n",
       " InstalledApplication(name='Notepad++ (64-bit x64)', version='7.9', install_date=None, install_location=None, install_source=None, modify_path=None, publisher='Notepad++ Team', uninstall_string='C:\\\\Program Files\\\\Notepad++\\\\uninstall.exe'),\n",
       " InstalledApplication(name='Microsoft 365 - en-us', version='16.0.15225.20204', install_date=None, install_location=WindowsPath('C:/Program Files/Microsoft Office'), install_source=None, modify_path='\"C:\\\\Program Files\\\\Common Files\\\\Microsoft Shared\\\\ClickToRun\\\\OfficeClickToRun.exe\" scenario=repair platform=x64 culture=en-us', publisher='Microsoft Corporation', uninstall_string='\"C:\\\\Program Files\\\\Common Files\\\\Microsoft Shared\\\\ClickToRun\\\\OfficeClickToRun.exe\" scenario=install scenariosubtype=ARP sourcetype=None productstoremove=O365HomePremRetail.16_en-us_x-none culture=en-us version.16=16.0'),\n",
       " InstalledApplication(name='Windows PC Health Check', version='3.6.2204.08001', install_date=datetime.date(2022, 4, 28), install_location='', install_source=WindowsPath('C:/WINDOWS/SoftwareDistribution/Download/cdb6f387a193a5a713e4bc895ad13319/img'), modify_path='MsiExec.exe /X{6798C408-2636-448C-8AC6-F4E341102D27}', publisher='Microsoft Corporation', uninstall_string='MsiExec.exe /X{6798C408-2636-448C-8AC6-F4E341102D27}'),\n",
       " InstalledApplication(name='Microsoft Update Health Tools', version='3.67.0.0', install_date=datetime.date(2022, 4, 12), install_location='', install_source=WindowsPath('C:/WINDOWS/TEMP/34C8D94D-CCB8-4A77-B64D-870041ABE7FE'), modify_path='MsiExec.exe /X{7B1FCD52-8F6B-4F12-A143-361EA39F5E7C}', publisher='Microsoft Corporation', uninstall_string='MsiExec.exe /X{7B1FCD52-8F6B-4F12-A143-361EA39F5E7C}'),\n",
       " InstalledApplication(name='Oracle VM VirtualBox 6.1.18', version='6.1.18', install_date=datetime.date(2021, 4, 13), install_location='', install_source=WindowsPath('C:/Users/91942/AppData/Local/Temp/VirtualBox'), modify_path='MsiExec.exe /I{A8F42E56-8D1F-4080-BD79-8375D3AD18BE}', publisher='Oracle Corporation', uninstall_string='MsiExec.exe /I{A8F42E56-8D1F-4080-BD79-8375D3AD18BE}'),\n",
       " InstalledApplication(name='NVIDIA Graphics Driver 511.69', version='511.69', install_date=datetime.date(2022, 5, 16), install_location=WindowsPath('C:/Program Files/NVIDIA Corporation/Installer2/Display.Driver.{E9FC6BBC-9354-4562-A1B4-979535AC606A}'), install_source=WindowsPath('C:/Program Files/NVIDIA Corporation/Installer2/Display.Driver.{E9FC6BBC-9354-4562-A1B4-979535AC606A}'), modify_path='', publisher='NVIDIA Corporation', uninstall_string='\"C:\\\\WINDOWS\\\\SysWOW64\\\\RunDll32.EXE\" \"C:\\\\Program Files\\\\NVIDIA Corporation\\\\Installer2\\\\InstallerCore\\\\NVI2.DLL\",UninstallPackage Display.Driver'),\n",
       " InstalledApplication(name='NVIDIA PhysX System Software 9.19.0218', version='9.19.0218', install_date=datetime.date(2020, 5, 5), install_location=WindowsPath('C:/Program Files (x86)/NVIDIA Corporation/PhysX'), install_source=WindowsPath('C:/Program Files/NVIDIA Corporation/Installer2/Display.PhysX.{A55FDADC-F2E8-430A-BF8C-947E1DDC5513}'), modify_path='', publisher='NVIDIA Corporation', uninstall_string='\"C:\\\\Windows\\\\SysWOW64\\\\RunDll32.EXE\" \"C:\\\\Program Files\\\\NVIDIA Corporation\\\\Installer2\\\\InstallerCore\\\\NVI2.DLL\",UninstallPackage Display.PhysX'),\n",
       " InstalledApplication(name='Google Chrome', version='102.0.5005.63', install_date=datetime.date(2022, 6, 4), install_location=WindowsPath('C:/Program Files/Google/Chrome/Application'), install_source=None, modify_path=None, publisher='Google LLC', uninstall_string='\"C:\\\\Program Files\\\\Google\\\\Chrome\\\\Application\\\\102.0.5005.63\\\\Installer\\\\setup.exe\" --uninstall --channel=stable --system-level --verbose-logging'),\n",
       " InstalledApplication(name='Locklizard Safeguard - PDF Viewer', version='3.0.2', install_date=None, install_location=WindowsPath('C:/Program Files/Locklizard Safeguard PDF Viewer'), install_source=None, modify_path=None, publisher='Locklizard Ltd.', uninstall_string='\"C:\\\\Program Files\\\\Locklizard Safeguard PDF Viewer\\\\uninstall.exe\" \"/U:C:\\\\Program Files\\\\Locklizard Safeguard PDF Viewer\\\\Uninstall Viewer\\\\uninstall.xml\"'),\n",
       " InstalledApplication(name='Microsoft Edge', version='102.0.1245.33', install_date=datetime.date(2022, 6, 4), install_location=WindowsPath('C:/Program Files (x86)/Microsoft/Edge/Application'), install_source=None, modify_path='\"C:\\\\Program Files (x86)\\\\Microsoft\\\\EdgeUpdate\\\\MicrosoftEdgeUpdate.exe\" /install appguid={56EB18F8-B008-4CBD-B6D2-8C97FE7E9062}&appname=Microsoft%20Edge&needsadmin=true&repairtype=windowsonlinerepair /installsource windowsupdate', publisher='Microsoft Corporation', uninstall_string='\"C:\\\\Program Files (x86)\\\\Microsoft\\\\Edge\\\\Application\\\\102.0.1245.33\\\\Installer\\\\setup.exe\" --uninstall --msedge --channel=stable --system-level --verbose-logging'),\n",
       " InstalledApplication(name='Microsoft Edge Update', version='1.3.161.35', install_date=None, install_location=None, install_source=None, modify_path=None, publisher=None, uninstall_string=None),\n",
       " InstalledApplication(name='Microsoft Edge WebView2 Runtime', version='101.0.1210.53', install_date=datetime.date(2022, 5, 22), install_location=WindowsPath('C:/Program Files (x86)/Microsoft/EdgeWebView/Application'), install_source=None, modify_path='\"C:\\\\Program Files (x86)\\\\Microsoft\\\\EdgeUpdate\\\\MicrosoftEdgeUpdate.exe\" /install appguid={F3017226-FE2A-4295-8BDF-00C3A9A7E4C5}&appname=Microsoft%20Edge%20WebView&needsadmin=true&repairtype=windowsonlinerepair /installsource otherinstallcmd', publisher='Microsoft Corporation', uninstall_string='\"C:\\\\Program Files (x86)\\\\Microsoft\\\\EdgeWebView\\\\Application\\\\101.0.1210.53\\\\Installer\\\\setup.exe\" --uninstall --msedgewebview --system-level --verbose-logging'),\n",
       " InstalledApplication(name='McAfee LiveSafe  ', version='16.0 R36', install_date=None, install_location=WindowsPath('C:/Program Files/McAfee'), install_source=None, modify_path=None, publisher='McAfee, LLC', uninstall_string='C:\\\\Program Files\\\\McAfee\\\\MSC\\\\mcuihost.exe /body:misp://MSCJsRes.dll::uninstall.html /id:uninstall'),\n",
       " InstalledApplication(name='Picasa 3', version='3.9', install_date=None, install_location=WindowsPath('\"C:/Program Files (x86)/Google/Picasa3\"'), install_source=None, modify_path=None, publisher='Google, Inc.', uninstall_string='\"C:\\\\Program Files (x86)\\\\Google\\\\Picasa3\\\\Uninstall.exe\"'),\n",
       " InstalledApplication(name='Safe Family', version='2.9.5.118', install_date=None, install_location=None, install_source=None, modify_path=None, publisher='McAfee, LLC', uninstall_string='\"C:\\\\Program Files\\\\Safe Family\\\\uninstall.exe\"'),\n",
       " InstalledApplication(name='Sophos SSL VPN Client 2.1', version='2.1', install_date=None, install_location=None, install_source=None, modify_path=None, publisher=None, uninstall_string='C:\\\\Program Files (x86)\\\\Sophos\\\\Sophos SSL VPN Client\\\\Uninstall.exe'),\n",
       " InstalledApplication(name='Microsoft Visual C++ 2015-2019 Redistributable (x64) - 14.24.28127', version='14.24.28127.4', install_date=None, install_location=None, install_source=None, modify_path='\"C:\\\\ProgramData\\\\Package Cache\\\\{282975d8-55fe-4991-bbbb-06a72581ce58}\\\\VC_redist.x64.exe\" /modify', publisher='Microsoft Corporation', uninstall_string='\"C:\\\\ProgramData\\\\Package Cache\\\\{282975d8-55fe-4991-bbbb-06a72581ce58}\\\\VC_redist.x64.exe\"  /uninstall'),\n",
       " InstalledApplication(name='WebAdvisor by McAfee', version='4.1.1.707', install_date=None, install_location=WindowsPath('C:/Program Files/McAfee/WebAdvisor'), install_source=None, modify_path=None, publisher='McAfee, LLC', uninstall_string='C:\\\\Program Files\\\\McAfee\\\\WebAdvisor\\\\Uninstaller.exe'),\n",
       " InstalledApplication(name='Sophos Connect', version='2.1.20.0309', install_date=datetime.date(2021, 11, 8), install_location=WindowsPath('C:/Program Files (x86)/Sophos/Connect'), install_source=WindowsPath('C:/Users/91942/Downloads'), modify_path='MsiExec.exe /X{4DE94747-7847-40DB-8522-6CC7473ECCA2}', publisher='Sophos Ltd', uninstall_string='MsiExec.exe /X{4DE94747-7847-40DB-8522-6CC7473ECCA2}'),\n",
       " InstalledApplication(name='Network Recording Player', version='40.9.4.6', install_date=datetime.date(2020, 9, 10), install_location='', install_source=WindowsPath('C:/Users/91942/Downloads'), modify_path='MsiExec.exe /I{4EE261B5-25F2-5020-2FE6-418DAEF408AD}', publisher='Cisco Webex LLC', uninstall_string='MsiExec.exe /I{4EE261B5-25F2-5020-2FE6-418DAEF408AD}'),\n",
       " InstalledApplication(name='McAfee Safe Connect', version='2.9', install_date=None, install_location=None, install_source=None, modify_path=None, publisher='McAfee, LLC.', uninstall_string='\"C:\\\\ProgramData\\\\Package Cache\\\\{739fc1f0-bd65-4f80-a69b-93f6464d564a}\\\\McAfeeSafeConnect.exe\"  /uninstall'),\n",
       " InstalledApplication(name='Microsoft Visual C++ 2015-2019 Redistributable (x86) - 14.24.28127', version='14.24.28127.4', install_date=None, install_location=None, install_source=None, modify_path='\"C:\\\\ProgramData\\\\Package Cache\\\\{e31cb1a4-76b5-46a5-a084-3fa419e82201}\\\\VC_redist.x86.exe\" /modify', publisher='Microsoft Corporation', uninstall_string='\"C:\\\\ProgramData\\\\Package Cache\\\\{e31cb1a4-76b5-46a5-a084-3fa419e82201}\\\\VC_redist.x86.exe\"  /uninstall')]"
      ]
     },
     "execution_count": 19,
     "metadata": {},
     "output_type": "execute_result"
    }
   ],
   "source": [
    "import winapps\n",
    "list(winapps.list_installed())"
   ]
  },
  {
   "cell_type": "code",
   "execution_count": 18,
   "id": "54e07bfb",
   "metadata": {},
   "outputs": [
    {
     "name": "stdout",
     "output_type": "stream",
     "text": [
      "Collecting winapps\n",
      "  Downloading winapps-0.2.0-py3-none-any.whl (9.1 kB)\n",
      "Collecting plumbum<2.0,>=1.6\n",
      "  Downloading plumbum-1.7.2-py2.py3-none-any.whl (117 kB)\n",
      "Requirement already satisfied: pywin32 in c:\\users\\91942\\anaconda3\\lib\\site-packages (from plumbum<2.0,>=1.6->winapps) (302)\n",
      "Installing collected packages: plumbum, winapps\n",
      "Successfully installed plumbum-1.7.2 winapps-0.2.0\n",
      "Note: you may need to restart the kernel to use updated packages.\n"
     ]
    }
   ],
   "source": [
    "pip install winapps"
   ]
  },
  {
   "cell_type": "raw",
   "id": "7245da4d",
   "metadata": {},
   "source": [
    "q13 : Write a code to convert any text in to voice "
   ]
  },
  {
   "cell_type": "code",
   "execution_count": null,
   "id": "06b993d3",
   "metadata": {},
   "outputs": [],
   "source": [
    "import gtts\n",
    "from playsound import playsound\n",
    "def txt_to_voice"
   ]
  },
  {
   "cell_type": "raw",
   "id": "09c58783",
   "metadata": {},
   "source": [
    "q14 : you have to write a fun which will take string and return a len of \n",
    "it without using a inbuilt fun len"
   ]
  },
  {
   "cell_type": "code",
   "execution_count": 3,
   "id": "b4f3f373",
   "metadata": {},
   "outputs": [
    {
     "name": "stdout",
     "output_type": "stream",
     "text": [
      "9\n"
     ]
    }
   ],
   "source": [
    "def str_len(s):\n",
    "    count = 0\n",
    "    for i in s:\n",
    "        count = count + 1\n",
    "    print(count)\n",
    "str_len('Gitanjali')"
   ]
  },
  {
   "cell_type": "raw",
   "id": "a1fb10a4",
   "metadata": {},
   "source": [
    "q16 : Write a fun which will take input as a dict and give me out as a list of all the values \n",
    "even in case of 2 level nesting it should work ."
   ]
  },
  {
   "cell_type": "code",
   "execution_count": 21,
   "id": "057d42f2",
   "metadata": {},
   "outputs": [],
   "source": [
    "d = {'Key1':'Value1','key1':'Value2','key3':{'key31':'values31','key34':'values34'}}"
   ]
  },
  {
   "cell_type": "code",
   "execution_count": 27,
   "id": "2399f83b",
   "metadata": {},
   "outputs": [
    {
     "data": {
      "text/plain": [
       "['Value1', 'Value2', 'values31', 'values34']"
      ]
     },
     "execution_count": 27,
     "metadata": {},
     "output_type": "execute_result"
    }
   ],
   "source": [
    "def dic_to_list(d):\n",
    "    l = []\n",
    "    for i in d.values():\n",
    "        if type(i) != dict:\n",
    "            l.append(i)\n",
    "        if type(i) == dict:\n",
    "            for j in i.values():\n",
    "                l.append(j)\n",
    "    return l\n",
    "dic_to_list(d)"
   ]
  },
  {
   "cell_type": "code",
   "execution_count": 28,
   "id": "06848caf",
   "metadata": {},
   "outputs": [
    {
     "name": "stdout",
     "output_type": "stream",
     "text": [
      "Collecting opencv-python\n",
      "  Downloading opencv_python-4.5.5.64-cp36-abi3-win_amd64.whl (35.4 MB)\n",
      "Note: you may need to restart the kernel to use updated packages.\n",
      "Requirement already satisfied: numpy>=1.17.3 in c:\\users\\91942\\anaconda3\\lib\\site-packages (from opencv-python) (1.21.5)\n",
      "Installing collected packages: opencv-python\n",
      "Successfully installed opencv-python-4.5.5.64\n"
     ]
    }
   ],
   "source": [
    "pip install opencv-python"
   ]
  },
  {
   "cell_type": "code",
   "execution_count": 4,
   "id": "804b5dcd",
   "metadata": {},
   "outputs": [
    {
     "ename": "error",
     "evalue": "OpenCV(4.5.5) D:\\a\\opencv-python\\opencv-python\\opencv\\modules\\highgui\\src\\window_w32.cpp:1261: error: (-27:Null pointer) NULL window: 'myimg' in function 'cvDestroyWindow'\n",
     "output_type": "error",
     "traceback": [
      "\u001b[1;31m---------------------------------------------------------------------------\u001b[0m",
      "\u001b[1;31merror\u001b[0m                                     Traceback (most recent call last)",
      "Input \u001b[1;32mIn [4]\u001b[0m, in \u001b[0;36m<cell line: 8>\u001b[1;34m()\u001b[0m\n\u001b[0;32m      5\u001b[0m     cv2\u001b[38;5;241m.\u001b[39mwaitKey(\u001b[38;5;241m20000\u001b[39m)\n\u001b[0;32m      6\u001b[0m     cv2\u001b[38;5;241m.\u001b[39mdestroyWindow(\u001b[38;5;124m\"\u001b[39m\u001b[38;5;124mmyimg\u001b[39m\u001b[38;5;124m\"\u001b[39m)\n\u001b[1;32m----> 8\u001b[0m \u001b[43mread_img\u001b[49m\u001b[43m(\u001b[49m\u001b[43m)\u001b[49m\n",
      "Input \u001b[1;32mIn [4]\u001b[0m, in \u001b[0;36mread_img\u001b[1;34m()\u001b[0m\n\u001b[0;32m      4\u001b[0m cv2\u001b[38;5;241m.\u001b[39mimshow(\u001b[38;5;124m\"\u001b[39m\u001b[38;5;124mmyimg\u001b[39m\u001b[38;5;124m\"\u001b[39m,a)\n\u001b[0;32m      5\u001b[0m cv2\u001b[38;5;241m.\u001b[39mwaitKey(\u001b[38;5;241m20000\u001b[39m)\n\u001b[1;32m----> 6\u001b[0m \u001b[43mcv2\u001b[49m\u001b[38;5;241;43m.\u001b[39;49m\u001b[43mdestroyWindow\u001b[49m\u001b[43m(\u001b[49m\u001b[38;5;124;43m\"\u001b[39;49m\u001b[38;5;124;43mmyimg\u001b[39;49m\u001b[38;5;124;43m\"\u001b[39;49m\u001b[43m)\u001b[49m\n",
      "\u001b[1;31merror\u001b[0m: OpenCV(4.5.5) D:\\a\\opencv-python\\opencv-python\\opencv\\modules\\highgui\\src\\window_w32.cpp:1261: error: (-27:Null pointer) NULL window: 'myimg' in function 'cvDestroyWindow'\n"
     ]
    }
   ],
   "source": [
    "import cv2\n",
    "def read_img():\n",
    "    a = cv2.imread('D:\\sushil-gita\\DSC_2581.jpg')\n",
    "    cv2.imshow(\"myimg\",a)\n",
    "    cv2.waitKey(20000)\n",
    "    cv2.destroyWindow(\"myimg\")\n",
    "    \n",
    "read_img()"
   ]
  },
  {
   "cell_type": "code",
   "execution_count": null,
   "id": "309e3e59",
   "metadata": {},
   "outputs": [],
   "source": []
  }
 ],
 "metadata": {
  "kernelspec": {
   "display_name": "Python 3 (ipykernel)",
   "language": "python",
   "name": "python3"
  },
  "language_info": {
   "codemirror_mode": {
    "name": "ipython",
    "version": 3
   },
   "file_extension": ".py",
   "mimetype": "text/x-python",
   "name": "python",
   "nbconvert_exporter": "python",
   "pygments_lexer": "ipython3",
   "version": "3.9.12"
  }
 },
 "nbformat": 4,
 "nbformat_minor": 5
}
